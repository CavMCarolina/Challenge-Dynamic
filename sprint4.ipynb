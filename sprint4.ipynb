{
 "cells": [
  {
   "cell_type": "markdown",
   "id": "a1a8f41b",
   "metadata": {},
   "source": [
    "# Sprint 4"
   ]
  },
  {
   "cell_type": "markdown",
   "id": "758f6458",
   "metadata": {},
   "source": [
    "## Aplicação de Grafos:"
   ]
  },
  {
   "cell_type": "code",
   "execution_count": 63,
   "id": "a618d43c",
   "metadata": {},
   "outputs": [],
   "source": [
    "grafo = {\n",
    "    \"Comprador 1\": { \n",
    "        \"Loja A\": {\"distancia\": 8.5, \"tempo_estimado\": 12, \"bairro\": \"Centro\", \"servico\": \"Elétrica\"},\n",
    "        \"Loja B\": {\"distancia\": 5.2, \"tempo_estimado\": 9, \"bairro\": \"Vila Nova\", \"servico\": \"Suspensão\"},\n",
    "        \"Loja C\": {\"distancia\": 10.1, \"tempo_estimado\": 15, \"bairro\": \"Jardim Azul\", \"servico\": \"Freios\"},\n",
    "        \"Loja D\": {\"distancia\": 4.8, \"tempo_estimado\": 7, \"bairro\": \"Alto da Colina\", \"servico\": \"Troca de óleo\"},\n",
    "        \"Loja E\": {\"distancia\": 7.3, \"tempo_estimado\": 11, \"bairro\": \"Residencial Park\", \"servico\": \"Injeção eletrônica\"},\n",
    "        \"Loja F\": {\"distancia\": 6.0, \"tempo_estimado\": 10, \"bairro\": \"Industrial\", \"servico\": \"Alinhamento\"},\n",
    "        \"Loja G\": {\"distancia\": 9.4, \"tempo_estimado\": 13, \"bairro\": \"Jardim Europa\", \"servico\": \"Balanceamento\"},\n",
    "        \"Loja H\": {\"distancia\": 3.6, \"tempo_estimado\": 5, \"bairro\": \"Monte Verde\", \"servico\": \"Bateria\"}\n",
    "    },\n",
    "    \"Comprador 2\": {\n",
    "        \"Loja A\": {\"distancia\": 7.0, \"tempo_estimado\": 11, \"bairro\": \"Centro\", \"servico\": \"Elétrica\"},\n",
    "        \"Loja B\": {\"distancia\": 8.0, \"tempo_estimado\": 13, \"bairro\": \"Vila Nova\", \"servico\": \"Suspensão\"},\n",
    "        \"Loja C\": {\"distancia\": 6.5, \"tempo_estimado\": 9, \"bairro\": \"Jardim Azul\", \"servico\": \"Freios\"},\n",
    "        \"Loja D\": {\"distancia\": 5.0, \"tempo_estimado\": 8, \"bairro\": \"Alto da Colina\", \"servico\": \"Troca de óleo\"},\n",
    "        \"Loja E\": {\"distancia\": 8.5, \"tempo_estimado\": 14, \"bairro\": \"Residencial Park\", \"servico\": \"Injeção eletrônica\"},\n",
    "        \"Loja F\": {\"distancia\": 4.0, \"tempo_estimado\": 7, \"bairro\": \"Industrial\", \"servico\": \"Alinhamento\"},\n",
    "        \"Loja G\": {\"distancia\": 9.5, \"tempo_estimado\": 14, \"bairro\": \"Jardim Europa\", \"servico\": \"Balanceamento\"},\n",
    "        \"Loja H\": {\"distancia\": 4.0, \"tempo_estimado\": 6, \"bairro\": \"Monte Verde\", \"servico\": \"Bateria\"}\n",
    "    },\n",
    "    \"Comprador 3\": { \n",
    "        \"Loja A\": {\"distancia\": 10.0, \"tempo_estimado\": 15, \"bairro\": \"Centro\", \"servico\": \"Elétrica\"},\n",
    "        \"Loja B\": {\"distancia\": 6.8, \"tempo_estimado\": 12, \"bairro\": \"Vila Nova\", \"servico\": \"Suspensão\"},\n",
    "        \"Loja C\": {\"distancia\": 9.0, \"tempo_estimado\": 14, \"bairro\": \"Jardim Azul\", \"servico\": \"Freios\"},\n",
    "        \"Loja D\": {\"distancia\": 7.2, \"tempo_estimado\": 10, \"bairro\": \"Alto da Colina\", \"servico\": \"Troca de óleo\"},\n",
    "        \"Loja E\": {\"distancia\": 8.3, \"tempo_estimado\": 12, \"bairro\": \"Residencial Park\", \"servico\": \"Injeção eletrônica\"},\n",
    "        \"Loja F\": {\"distancia\": 5.5, \"tempo_estimado\": 9, \"bairro\": \"Industrial\", \"servico\": \"Alinhamento\"},\n",
    "        \"Loja G\": {\"distancia\": 8.1, \"tempo_estimado\": 12, \"bairro\": \"Jardim Europa\", \"servico\": \"Balanceamento\"},\n",
    "        \"Loja H\": {\"distancia\": 5.8, \"tempo_estimado\": 9, \"bairro\": \"Monte Verde\", \"servico\": \"Bateria\"}\n",
    "    },\n",
    "    \"Comprador 4\": {}\n",
    "}\n"
   ]
  },
  {
   "cell_type": "code",
   "execution_count": 64,
   "id": "4e337d58",
   "metadata": {},
   "outputs": [],
   "source": [
    "def loja_mais_proxima(grafo, comprador):\n",
    "    # Pega as lojas conectadas ao comprador, se não existir, retorna um dicionário vazio.\n",
    "    lojas = grafo.get(comprador, {}) \n",
    "    \n",
    "    # Verifica se o comprador está conectado a alguma loja\n",
    "    if not lojas:\n",
    "        print(f\"{comprador}:\")\n",
    "        print(\"Nenhuma loja conectada ao comprador.\")\n",
    "        return None\n",
    "    \n",
    "    # Encontra a loja mais próxima com base na distância\n",
    "    loja_proxima = min(lojas.items(), key=lambda item: item[1][\"distancia\"])\n",
    "\n",
    "    return loja_proxima"
   ]
  },
  {
   "cell_type": "code",
   "execution_count": 65,
   "id": "47fcba27",
   "metadata": {},
   "outputs": [
    {
     "name": "stdout",
     "output_type": "stream",
     "text": [
      "Comprador 1:\n",
      "Loja mais próxima: Loja H\n",
      "Distância: 3.6Km\n",
      "Tempo estimado: 5min\n",
      "Bairro: Monte Verde\n",
      "\n",
      "~~~~~~~~~~~~~~~~~~~~~~~~~~~~~~~~\n",
      "\n",
      "Comprador 2:\n",
      "Loja mais próxima: Loja F\n",
      "Distância: 4.0Km\n",
      "Tempo estimado: 7min\n",
      "Bairro: Industrial\n",
      "\n",
      "~~~~~~~~~~~~~~~~~~~~~~~~~~~~~~~~\n",
      "\n",
      "Comprador 3:\n",
      "Loja mais próxima: Loja F\n",
      "Distância: 5.5Km\n",
      "Tempo estimado: 9min\n",
      "Bairro: Industrial\n",
      "\n",
      "~~~~~~~~~~~~~~~~~~~~~~~~~~~~~~~~\n",
      "\n",
      "Comprador 4:\n",
      "Nenhuma loja conectada ao comprador.\n"
     ]
    }
   ],
   "source": [
    "# Visualização para cada comprador\n",
    "for comprador in grafo.keys():\n",
    "    loja_proxima = loja_mais_proxima(grafo, comprador)\n",
    "    if loja_proxima:\n",
    "        nome_loja, dados_loja = loja_proxima\n",
    "        print(f\"{comprador}:\\nLoja mais próxima: {nome_loja}\\nDistância: {dados_loja['distancia']}Km\\nTempo estimado: {dados_loja['tempo_estimado']}min\\nBairro: {dados_loja['bairro']}\\n\")\n",
    "        print(\"~~~~~~~~~~~~~~~~~~~~~~~~~~~~~~~~\\n\")"
   ]
  },
  {
   "cell_type": "markdown",
   "id": "1ee3cf24",
   "metadata": {},
   "source": [
    "## Algoritmo de Dijkstra:"
   ]
  }
 ],
 "metadata": {
  "kernelspec": {
   "display_name": "Python 3",
   "language": "python",
   "name": "python3"
  },
  "language_info": {
   "codemirror_mode": {
    "name": "ipython",
    "version": 3
   },
   "file_extension": ".py",
   "mimetype": "text/x-python",
   "name": "python",
   "nbconvert_exporter": "python",
   "pygments_lexer": "ipython3",
   "version": "3.13.2"
  }
 },
 "nbformat": 4,
 "nbformat_minor": 5
}
