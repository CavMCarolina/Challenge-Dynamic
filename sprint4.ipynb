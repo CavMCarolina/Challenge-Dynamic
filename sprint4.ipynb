{
 "cells": [
  {
   "cell_type": "markdown",
   "id": "a1a8f41b",
   "metadata": {},
   "source": [
    "# Sprint 4"
   ]
  }
 ],
 "metadata": {
  "language_info": {
   "name": "python"
  }
 },
 "nbformat": 4,
 "nbformat_minor": 5
}
