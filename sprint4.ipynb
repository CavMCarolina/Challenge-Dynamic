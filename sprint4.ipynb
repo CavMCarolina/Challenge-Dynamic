{
 "cells": [
  {
   "cell_type": "markdown",
   "id": "a1a8f41b",
   "metadata": {},
   "source": [
    "# Sprint 4"
   ]
  },
  {
   "cell_type": "markdown",
   "id": "758f6458",
   "metadata": {},
   "source": [
    "## Aplicação de Grafos:"
   ]
  },
  {
   "cell_type": "code",
   "execution_count": 24,
   "id": "a618d43c",
   "metadata": {},
   "outputs": [],
   "source": [
    "grafo = {\n",
    "    \"Comprador\": {\n",
    "        \"Loja A\": {\"distancia\": 8.5, \"tempo_estimado\": 12, \"bairro\": \"Centro\"},\n",
    "        \"Loja B\": {\"distancia\": 5.2, \"tempo_estimado\": 9, \"bairro\": \"Vila Nova\"},\n",
    "        \"Loja C\": {\"distancia\": 10.1, \"tempo_estimado\": 15, \"bairro\": \"Jardim Azul\"},\n",
    "        \"Loja D\": {\"distancia\": 4.8, \"tempo_estimado\": 7, \"bairro\": \"Alto da Colina\"},\n",
    "        \"Loja E\": {\"distancia\": 7.3, \"tempo_estimado\": 11, \"bairro\": \"Residencial Park\"},\n",
    "        \"Loja F\": {\"distancia\": 6.0, \"tempo_estimado\": 10, \"bairro\": \"Industrial\"},\n",
    "        \"Loja G\": {\"distancia\": 9.4, \"tempo_estimado\": 13, \"bairro\": \"Jardim Europa\"},\n",
    "        \"Loja H\": {\"distancia\": 3.6, \"tempo_estimado\": 5, \"bairro\": \"Monte Verde\",}\n",
    "    }\n",
    "}"
   ]
  },
  {
   "cell_type": "code",
   "execution_count": 25,
   "id": "4e337d58",
   "metadata": {},
   "outputs": [],
   "source": [
    "def loja_mais_proxima(grafo, origem = \"Comprador\"):\n",
    "    # Pega as lojas conectadas ao comprador, se não existir, retorna um dicionário vazio.\n",
    "    lojas = grafo.get(origem, {})\n",
    "    \n",
    "    # Verifica se o comprador está conectado a alguma loja\n",
    "    if not lojas:\n",
    "        print(\"Nenhuma loja conectada ao comprador.\")\n",
    "        return None\n",
    "    \n",
    "    # Encontra a loja mais próxima com base na distância\n",
    "    loja_proxima = min(lojas.items(), key=lambda item: item[1][\"distancia\"])\n",
    "    nome_loja = loja_proxima[0]\n",
    "    dados = loja_proxima[1]\n",
    "    \n",
    "    # Retorna um dicionário com as informações da loja mais próxima\n",
    "    return {\n",
    "        \"nome\": nome_loja,\n",
    "        \"distancia_km\": dados[\"distancia\"],\n",
    "        \"tempo_estimado_min\": dados[\"tempo_estimado\"],\n",
    "        \"bairro\": dados[\"bairro\"],\n",
    "    }"
   ]
  },
  {
   "cell_type": "code",
   "execution_count": 26,
   "id": "47fcba27",
   "metadata": {},
   "outputs": [
    {
     "name": "stdout",
     "output_type": "stream",
     "text": [
      "Loja mais próxima encontrada:\n",
      "- Nome: Loja H\n",
      "- Distância: 3.6 km\n",
      "- Tempo estimado: 5 min\n",
      "- Bairro: Monte Verde\n"
     ]
    }
   ],
   "source": [
    "resultado = loja_mais_proxima(grafo)\n",
    "\n",
    "print(\"Loja mais próxima encontrada:\")\n",
    "print(f\"- Nome: {resultado['nome']}\")\n",
    "print(f\"- Distância: {resultado['distancia_km']} km\")\n",
    "print(f\"- Tempo estimado: {resultado['tempo_estimado_min']} min\")\n",
    "print(f\"- Bairro: {resultado['bairro']}\")"
   ]
  },
  {
   "cell_type": "markdown",
   "id": "1ee3cf24",
   "metadata": {},
   "source": [
    "## Algoritmo de Dijkstra:"
   ]
  }
 ],
 "metadata": {
  "kernelspec": {
   "display_name": "Python 3",
   "language": "python",
   "name": "python3"
  },
  "language_info": {
   "codemirror_mode": {
    "name": "ipython",
    "version": 3
   },
   "file_extension": ".py",
   "mimetype": "text/x-python",
   "name": "python",
   "nbconvert_exporter": "python",
   "pygments_lexer": "ipython3",
   "version": "3.13.2"
  }
 },
 "nbformat": 4,
 "nbformat_minor": 5
}
