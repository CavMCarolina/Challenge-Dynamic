{
 "cells": [
  {
   "cell_type": "markdown",
   "id": "a1a8f41b",
   "metadata": {},
   "source": [
    "# Sprint 4"
   ]
  },
  {
   "cell_type": "markdown",
   "id": "758f6458",
   "metadata": {},
   "source": [
    "## Aplicação de Grafos:"
   ]
  },
  {
   "cell_type": "code",
   "execution_count": 63,
   "id": "a618d43c",
   "metadata": {},
   "outputs": [],
   "source": [
    "grafo = {\n",
    "    \"Comprador 1\": { \n",
    "        \"Loja A\": {\"distancia\": 8.5, \"tempo_estimado\": 12, \"bairro\": \"Centro\", \"servico\": \"Elétrica\"},\n",
    "        \"Loja B\": {\"distancia\": 5.2, \"tempo_estimado\": 9, \"bairro\": \"Vila Nova\", \"servico\": \"Suspensão\"},\n",
    "        \"Loja C\": {\"distancia\": 10.1, \"tempo_estimado\": 15, \"bairro\": \"Jardim Azul\", \"servico\": \"Freios\"},\n",
    "        \"Loja D\": {\"distancia\": 4.8, \"tempo_estimado\": 7, \"bairro\": \"Alto da Colina\", \"servico\": \"Troca de óleo\"},\n",
    "        \"Loja E\": {\"distancia\": 7.3, \"tempo_estimado\": 11, \"bairro\": \"Residencial Park\", \"servico\": \"Injeção eletrônica\"},\n",
    "        \"Loja F\": {\"distancia\": 6.0, \"tempo_estimado\": 10, \"bairro\": \"Industrial\", \"servico\": \"Alinhamento\"},\n",
    "        \"Loja G\": {\"distancia\": 9.4, \"tempo_estimado\": 13, \"bairro\": \"Jardim Europa\", \"servico\": \"Balanceamento\"},\n",
    "        \"Loja H\": {\"distancia\": 3.6, \"tempo_estimado\": 5, \"bairro\": \"Monte Verde\", \"servico\": \"Bateria\"}\n",
    "    },\n",
    "    \"Comprador 2\": {\n",
    "        \"Loja A\": {\"distancia\": 7.0, \"tempo_estimado\": 11, \"bairro\": \"Centro\", \"servico\": \"Elétrica\"},\n",
    "        \"Loja B\": {\"distancia\": 8.0, \"tempo_estimado\": 13, \"bairro\": \"Vila Nova\", \"servico\": \"Suspensão\"},\n",
    "        \"Loja C\": {\"distancia\": 6.5, \"tempo_estimado\": 9, \"bairro\": \"Jardim Azul\", \"servico\": \"Freios\"},\n",
    "        \"Loja D\": {\"distancia\": 5.0, \"tempo_estimado\": 8, \"bairro\": \"Alto da Colina\", \"servico\": \"Troca de óleo\"},\n",
    "        \"Loja E\": {\"distancia\": 8.5, \"tempo_estimado\": 14, \"bairro\": \"Residencial Park\", \"servico\": \"Injeção eletrônica\"},\n",
    "        \"Loja F\": {\"distancia\": 4.0, \"tempo_estimado\": 7, \"bairro\": \"Industrial\", \"servico\": \"Alinhamento\"},\n",
    "        \"Loja G\": {\"distancia\": 9.5, \"tempo_estimado\": 14, \"bairro\": \"Jardim Europa\", \"servico\": \"Balanceamento\"},\n",
    "        \"Loja H\": {\"distancia\": 4.0, \"tempo_estimado\": 6, \"bairro\": \"Monte Verde\", \"servico\": \"Bateria\"}\n",
    "    },\n",
    "    \"Comprador 3\": { \n",
    "        \"Loja A\": {\"distancia\": 10.0, \"tempo_estimado\": 15, \"bairro\": \"Centro\", \"servico\": \"Elétrica\"},\n",
    "        \"Loja B\": {\"distancia\": 6.8, \"tempo_estimado\": 12, \"bairro\": \"Vila Nova\", \"servico\": \"Suspensão\"},\n",
    "        \"Loja C\": {\"distancia\": 9.0, \"tempo_estimado\": 14, \"bairro\": \"Jardim Azul\", \"servico\": \"Freios\"},\n",
    "        \"Loja D\": {\"distancia\": 7.2, \"tempo_estimado\": 10, \"bairro\": \"Alto da Colina\", \"servico\": \"Troca de óleo\"},\n",
    "        \"Loja E\": {\"distancia\": 8.3, \"tempo_estimado\": 12, \"bairro\": \"Residencial Park\", \"servico\": \"Injeção eletrônica\"},\n",
    "        \"Loja F\": {\"distancia\": 5.5, \"tempo_estimado\": 9, \"bairro\": \"Industrial\", \"servico\": \"Alinhamento\"},\n",
    "        \"Loja G\": {\"distancia\": 8.1, \"tempo_estimado\": 12, \"bairro\": \"Jardim Europa\", \"servico\": \"Balanceamento\"},\n",
    "        \"Loja H\": {\"distancia\": 5.8, \"tempo_estimado\": 9, \"bairro\": \"Monte Verde\", \"servico\": \"Bateria\"}\n",
    "    },\n",
    "    \"Comprador 4\": {}\n",
    "}\n"
   ]
  },
  {
   "cell_type": "code",
   "execution_count": 64,
   "id": "4e337d58",
   "metadata": {},
   "outputs": [],
   "source": [
    "def loja_mais_proxima(grafo, comprador):\n",
    "    # Pega as lojas conectadas ao comprador, se não existir, retorna um dicionário vazio.\n",
    "    lojas = grafo.get(comprador, {}) \n",
    "    \n",
    "    # Verifica se o comprador está conectado a alguma loja\n",
    "    if not lojas:\n",
    "        print(f\"{comprador}:\")\n",
    "        print(\"Nenhuma loja conectada ao comprador.\")\n",
    "        return None\n",
    "    \n",
    "    # Encontra a loja mais próxima com base na distância\n",
    "    loja_proxima = min(lojas.items(), key=lambda item: item[1][\"distancia\"])\n",
    "\n",
    "    return loja_proxima"
   ]
  },
  {
   "cell_type": "code",
   "execution_count": 65,
   "id": "47fcba27",
   "metadata": {},
   "outputs": [
    {
     "name": "stdout",
     "output_type": "stream",
     "text": [
      "Comprador 1:\n",
      "Loja mais próxima: Loja H\n",
      "Distância: 3.6Km\n",
      "Tempo estimado: 5min\n",
      "Bairro: Monte Verde\n",
      "\n",
      "~~~~~~~~~~~~~~~~~~~~~~~~~~~~~~~~\n",
      "\n",
      "Comprador 2:\n",
      "Loja mais próxima: Loja F\n",
      "Distância: 4.0Km\n",
      "Tempo estimado: 7min\n",
      "Bairro: Industrial\n",
      "\n",
      "~~~~~~~~~~~~~~~~~~~~~~~~~~~~~~~~\n",
      "\n",
      "Comprador 3:\n",
      "Loja mais próxima: Loja F\n",
      "Distância: 5.5Km\n",
      "Tempo estimado: 9min\n",
      "Bairro: Industrial\n",
      "\n",
      "~~~~~~~~~~~~~~~~~~~~~~~~~~~~~~~~\n",
      "\n",
      "Comprador 4:\n",
      "Nenhuma loja conectada ao comprador.\n"
     ]
    }
   ],
   "source": [
    "# Visualização para cada comprador\n",
    "for comprador in grafo.keys():\n",
    "    loja_proxima = loja_mais_proxima(grafo, comprador)\n",
    "    if loja_proxima:\n",
    "        nome_loja, dados_loja = loja_proxima\n",
    "        print(f\"{comprador}:\\nLoja mais próxima: {nome_loja}\\nDistância: {dados_loja['distancia']}Km\\nTempo estimado: {dados_loja['tempo_estimado']}min\\nBairro: {dados_loja['bairro']}\\n\")\n",
    "        print(\"~~~~~~~~~~~~~~~~~~~~~~~~~~~~~~~~\\n\")"
   ]
  },
  {
   "cell_type": "markdown",
   "id": "1ee3cf24",
   "metadata": {},
   "source": [
    "## Algoritmo de Dijkstra:"
   ]
  },
  {
   "cell_type": "code",
   "execution_count": 66,
   "id": "9d529541",
   "metadata": {},
   "outputs": [],
   "source": [
    "import heapq\n",
    "\n",
    "def dijkstra(grafo, origem):\n",
    "    \"\"\"\n",
    "    Implementação do algoritmo de Dijkstra para encontrar o menor caminho entre a origem e todos os outros pontos.\n",
    "    \"\"\"\n",
    "    # Distâncias iniciais (infinito para todos, exceto para a origem que é 0)\n",
    "    distancias = {no: float('inf') for no in grafo}\n",
    "    distancias[origem] = 0\n",
    "\n",
    "    # Fila de prioridade (min-heap)\n",
    "    fila = [(0, origem)]  # (distancia, nó)\n",
    "\n",
    "    while fila:\n",
    "        distancia_atual, no_atual = heapq.heappop(fila)\n",
    "\n",
    "        # Se a distância já for maior do que a encontrada antes, pulamos\n",
    "        if distancia_atual > distancias[no_atual]:\n",
    "            continue\n",
    "\n",
    "        # Verificar os vizinhos\n",
    "        for vizinho, peso in grafo[no_atual].items():\n",
    "            distancia = distancia_atual + peso\n",
    "            # Se a distância encontrada for menor, atualizamos\n",
    "            if distancia < distancias[vizinho]:\n",
    "                distancias[vizinho] = distancia\n",
    "                heapq.heappush(fila, (distancia, vizinho))\n",
    "\n",
    "    return distancias\n"
   ]
  },
  {
   "cell_type": "code",
   "execution_count": 67,
   "id": "323e5499",
   "metadata": {},
   "outputs": [],
   "source": [
    "def rota_entregas(grafo, ponto_origem, destinos):\n",
    "    \"\"\"\n",
    "    Calcula o menor caminho para realizar múltiplas entregas a partir de um ponto de origem usando o algoritmo de Dijkstra.\n",
    "    \"\"\"\n",
    "    # Calcular as distâncias a partir do ponto de origem usando Dijkstra\n",
    "    distancias_origem = dijkstra(grafo, ponto_origem)\n",
    "\n",
    "    # Inicializando a rota e o total de distância\n",
    "    rota = [ponto_origem]\n",
    "    distancia_total = 0\n",
    "\n",
    "    # Para cada destino, vamos calcular a distância do ponto de origem até o destino\n",
    "    for destino in destinos:\n",
    "        # A distância já foi calculada na execução de Dijkstra\n",
    "        distancia_total += distancias_origem[destino]\n",
    "        rota.append(destino)\n",
    "\n",
    "    return rota, distancia_total\n"
   ]
  },
  {
   "cell_type": "code",
   "execution_count": 72,
   "id": "6ce5d5d2",
   "metadata": {},
   "outputs": [
    {
     "name": "stdout",
     "output_type": "stream",
     "text": [
      "Rota de entregas: Origem -> Loja A -> Loja D -> Loja F -> Loja H\n",
      "Distância total para as entregas: 22.20Km\n"
     ]
    }
   ],
   "source": [
    "# Definindo o grafo de endereços (distâncias entre os pontos)\n",
    "grafo = {\n",
    "    \"Origem\": {\n",
    "        \"Loja A\": 8.5, \"Loja B\": 5.2, \"Loja C\": 10.1, \"Loja D\": 4.8, \n",
    "        \"Loja E\": 7.3, \"Loja F\": 6.0, \"Loja G\": 9.4, \"Loja H\": 3.6\n",
    "    },\n",
    "    \"Loja A\": {\n",
    "        \"Origem\": 8.5, \"Loja B\": 3.3, \"Loja C\": 6.2, \"Loja D\": 5.0, \n",
    "        \"Loja E\": 7.0, \"Loja F\": 4.5, \"Loja G\": 8.1, \"Loja H\": 4.2\n",
    "    },\n",
    "    \"Loja B\": {\n",
    "        \"Origem\": 5.2, \"Loja A\": 3.3, \"Loja C\": 7.0, \"Loja D\": 6.5, \n",
    "        \"Loja E\": 6.2, \"Loja F\": 5.1, \"Loja G\": 9.0, \"Loja H\": 5.7\n",
    "    },\n",
    "    \"Loja C\": {\n",
    "        \"Origem\": 10.1, \"Loja A\": 6.2, \"Loja B\": 7.0, \"Loja D\": 4.8, \n",
    "        \"Loja E\": 8.3, \"Loja F\": 9.5, \"Loja G\": 7.1, \"Loja H\": 6.0\n",
    "    },\n",
    "    \"Loja D\": {\n",
    "        \"Origem\": 4.8, \"Loja A\": 5.0, \"Loja B\": 6.5, \"Loja C\": 4.8,\n",
    "        \"Loja E\": 3.9, \"Loja F\": 4.2, \"Loja G\": 6.8, \"Loja H\": 2.7\n",
    "    },\n",
    "    \"Loja E\": {\n",
    "        \"Origem\": 7.3, \"Loja A\": 7.0, \"Loja B\": 6.2, \"Loja C\": 8.3,\n",
    "        \"Loja D\": 3.9, \"Loja F\": 5.4, \"Loja G\": 8.0, \"Loja H\": 4.5\n",
    "    },\n",
    "    \"Loja F\": {\n",
    "        \"Origem\": 6.0, \"Loja A\": 4.5, \"Loja B\": 5.1, \"Loja C\": 9.5,\n",
    "        \"Loja D\": 4.2, \"Loja E\": 5.4, \"Loja G\": 7.2, \"Loja H\": 3.8\n",
    "    },\n",
    "    \"Loja G\": {\n",
    "        \"Origem\": 9.4, \"Loja A\": 8.1, \"Loja B\": 9.0, \"Loja C\": 7.1,\n",
    "        \"Loja D\": 6.8, \"Loja E\": 8.0, \"Loja F\": 7.2, \"Loja H\": 5.6\n",
    "    },\n",
    "    \"Loja H\": {\n",
    "        \"Origem\": 3.6, \"Loja A\": 4.2, \"Loja B\": 5.7, \"Loja C\": 6.0,\n",
    "        \"Loja D\": 2.7, \"Loja E\": 4.5, \"Loja F\": 3.8, \"Loja G\": 5.6\n",
    "    }   \n",
    "}\n",
    "\n",
    "# Definindo os destinos que o caminhão precisa entregar\n",
    "destinos = [\"Loja A\", \"Loja D\", \"Loja F\", \"Loja H\"]\n",
    "\n",
    "# Calculando a rota de entregas\n",
    "rota, distancia_total = rota_entregas(grafo, \"Origem\", destinos)\n",
    "\n",
    "# Exibindo o resultado\n",
    "print(\"Rota de entregas:\", \" -> \".join(rota))\n",
    "print(f\"Distância total para as entregas: {distancia_total:.2f}Km\")\n"
   ]
  }
 ],
 "metadata": {
  "kernelspec": {
   "display_name": "Python 3",
   "language": "python",
   "name": "python3"
  },
  "language_info": {
   "codemirror_mode": {
    "name": "ipython",
    "version": 3
   },
   "file_extension": ".py",
   "mimetype": "text/x-python",
   "name": "python",
   "nbconvert_exporter": "python",
   "pygments_lexer": "ipython3",
   "version": "3.13.2"
  }
 },
 "nbformat": 4,
 "nbformat_minor": 5
}
